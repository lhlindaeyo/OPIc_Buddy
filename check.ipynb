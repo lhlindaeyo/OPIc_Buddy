{
 "cells": [
  {
   "metadata": {
    "ExecuteTime": {
     "end_time": "2025-08-06T05:47:28.317162Z",
     "start_time": "2025-08-06T05:47:24.304437Z"
    }
   },
   "cell_type": "code",
   "source": [
    "\n",
    "state = [input() for _ in range(8)]\n",
    "line_1 = [0,1,0,1,0,1,0,1]\n",
    "line_2 = [1,0,1,0,1,0,1,0]\n",
    "chess = []\n",
    "for i in range(8):\n",
    "    if i % 2 == 0:\n",
    "        chess.append(line_1)\n",
    "    else:\n",
    "        chess.append(line_2)\n",
    "for x in state:\n",
    "    for y in x:\n"
   ],
   "id": "6071e1b4cc727765",
   "outputs": [
    {
     "name": "stdout",
     "output_type": "stream",
     "text": [
      "7\n"
     ]
    }
   ],
   "execution_count": 42
  },
  {
   "metadata": {
    "ExecuteTime": {
     "end_time": "2025-08-06T05:13:05.031970Z",
     "start_time": "2025-08-06T05:13:05.029007Z"
    }
   },
   "cell_type": "code",
   "source": [
    "m = int(input())\n",
    "n = int(input())\n"
   ],
   "id": "8b1604f979a35702",
   "outputs": [
    {
     "name": "stdout",
     "output_type": "stream",
     "text": [
      "10\n",
      "35\n"
     ]
    }
   ],
   "execution_count": 33
  },
  {
   "metadata": {
    "ExecuteTime": {
     "end_time": "2025-08-07T07:06:54.410444Z",
     "start_time": "2025-08-07T07:06:52.309427Z"
    }
   },
   "cell_type": "code",
   "source": [
    "n = input()\n",
    "length = len(n)\n",
    "total = 0\n",
    "def change(n):\n",
    "    if n in \"0123456789\":\n",
    "        return int(n)\n",
    "    else:\n",
    "        return ord(n) - 55\n",
    "for i in range(length):\n",
    "    digit = n[-(i+1)]\n",
    "print(sum(total))"
   ],
   "id": "246a3d08b1197c69",
   "outputs": [
    {
     "name": "stdout",
     "output_type": "stream",
     "text": [
      "10\n"
     ]
    }
   ],
   "execution_count": 9
  },
  {
   "metadata": {},
   "cell_type": "markdown",
   "source": "#### 확인",
   "id": "f307822404e819aa"
  },
  {
   "metadata": {
    "ExecuteTime": {
     "end_time": "2025-08-09T06:32:50.300252Z",
     "start_time": "2025-08-09T06:32:49.475897Z"
    }
   },
   "cell_type": "code",
   "source": [
    "from db.db import upload_contents\n",
    "if __name__ == \"__main__\":\n",
    "    # JSON 파일 경로와 컬렉션 이름만 지정해주면 됩니다\n",
    "    data = upload_contents(\n",
    "        json_path=r\"C:\\PythonEnvs\\huggingface\\OPIc_Buddy\\data\\opic_question.json\",\n",
    "        collection_name=\"opic_samples\",\n",
    "        overwrite=True\n",
    "    )\n",
    "    print(type(data))"
   ],
   "id": "4240e57e8f9ec01f",
   "outputs": [
    {
     "name": "stdout",
     "output_type": "stream",
     "text": [
      "MongoDB 연결 성공 (컬렉션: opic_samples)\n",
      "Inserted 79 documents into OPIcBuddy.opic_samples\n",
      "<class 'NoneType'>\n"
     ]
    }
   ],
   "execution_count": 6
  },
  {
   "metadata": {
    "ExecuteTime": {
     "end_time": "2025-08-09T06:33:01.676357Z",
     "start_time": "2025-08-09T06:32:59.427058Z"
    }
   },
   "cell_type": "code",
   "source": [
    "# run_embedding.py\n",
    "from embedding import embedding_collection\n",
    "\n",
    "if __name__ == \"__main__\":\n",
    "    MODEL_PATH = r\"C:\\PythonEnvs\\huggingface\\OPIc_Buddy\\model\\models--intfloat--e5-base-v2\\snapshots\\f52bf8ec8c7124536f0efb74aca902b2995e5bcd\"\n",
    "\n",
    "    embedding_collection(\n",
    "        input_collection=\"opic_samples\",\n",
    "        output_collection=\"embedded_opic_samples\",\n",
    "        model_path=MODEL_PATH,\n",
    "        batch_size=50\n",
    "    )\n",
    "    print(\"임베딩 완료!\")"
   ],
   "id": "bc823da4d5e5145e",
   "outputs": [
    {
     "name": "stdout",
     "output_type": "stream",
     "text": [
      "MongoDB 연결 성공 (컬렉션: opic_samples)\n",
      "MongoDB 연결 성공 (컬렉션: embedded_opic_samples)\n"
     ]
    },
    {
     "name": "stderr",
     "output_type": "stream",
     "text": [
      "Embedding docs: 79it [00:00, 179.60it/s]\n"
     ]
    },
    {
     "name": "stdout",
     "output_type": "stream",
     "text": [
      "✅ 임베딩 완료!\n"
     ]
    }
   ],
   "execution_count": 7
  },
  {
   "metadata": {
    "ExecuteTime": {
     "end_time": "2025-08-09T07:14:24.350612Z",
     "start_time": "2025-08-09T07:13:43.577955Z"
    }
   },
   "cell_type": "code",
   "source": [
    "from rag import run_rag\n",
    "\n",
    "EMBED_MODEL_PATH = r\"C:\\PythonEnvs\\huggingface\\OPIc_Buddy\\model\\models--intfloat--e5-base-v2\\snapshots\\f52bf8ec8c7124536f0efb74aca902b2995e5bcd\"\n",
    "resp = run_rag(\"yoga\", model_path=EMBED_MODEL_PATH, k=3)\n",
    "print(resp)\n"
   ],
   "id": "1d8cf11653f4615f",
   "outputs": [
    {
     "name": "stdout",
     "output_type": "stream",
     "text": [
      "MongoDB 연결 성공 (컬렉션: embedded_opic_samples)\n",
      "You are an OPIc speaking test assistant.\n",
      "Use the following context to ask ONE natural follow-up question in English.\n",
      "\n",
      "Context:\n",
      "How often do you do yoga? Where do you usually do it, and what do you like most about it?\n",
      "What do you like most about yoga? Do you find it helps with your physical flexibility, or your mental focus?\n",
      "Tell me about a memorable yoga experience you've had. What happened, and how did you feel after the session?\n",
      "\n",
      "User said: yoga\n",
      "Your follow-up question:\n",
      "\n",
      "How often do you do yoga?\n",
      "\n",
      "Answer: I do yoga three times a week. I usually do it at home, in my living room. I like to do it in the morning, before I start my day. I find it helps me to relax and calm my mind.\n",
      "\n",
      "How often do you do yoga?\n",
      "\n",
      "Answer: I do yoga three times a week. I usually do it at home, in my living room. I like to do it in the morning, before I start my day. I find it helps me to relax and calm my mind.\n",
      "\n",
      "How often do you do yoga?\n",
      "\n",
      "Answer: I do yoga three times a week. I usually do it at home, in my living room. I like to do it in the morning, before I start my day. I find it helps me to relax and calm my mind.\n",
      "\n",
      "How often do you do yoga?\n",
      "\n",
      "Answer: I do yoga three times a week. I usually do it at home, in my living room. I like to do it in the morning, before I start my day. I find it helps me to relax and calm my mind.\n",
      "\n",
      "How often do you do yoga?\n",
      "\n",
      "Answer: I do yoga\n"
     ]
    }
   ],
   "execution_count": 4
  },
  {
   "metadata": {
    "ExecuteTime": {
     "end_time": "2025-08-09T07:23:58.759933Z",
     "start_time": "2025-08-09T07:23:56.395074Z"
    }
   },
   "cell_type": "code",
   "source": [
    "import random\n",
    "from typing import List, Optional\n",
    "from retriever import retrieve_top_k\n",
    "\n",
    "EMBED_MODEL_PATH = r\"C:\\PythonEnvs\\huggingface\\OPIc_Buddy\\model\\models--intfloat--e5-base-v2\\snapshots\\f52bf8ec8c7124536f0efb74aca902b2995e5bcd\"\n",
    "\n",
    "def get_random_questions(\n",
    "    user_input: str,\n",
    "    k: int = 3,                                # 유사 문서(컨텍스트) 몇 개 가져올지\n",
    "    collection_name: str = \"embedded_opic_samples\",\n",
    "    model_path: str = EMBED_MODEL_PATH,\n",
    "    text_field: str = \"content\",\n",
    "    emb_field: str = \"embedding\",\n",
    "    category: Optional[str] = None,\n",
    "    topic: Optional[str] = None,\n",
    "    max_pick: int = 3                          # 최종 무작위 질문 개수 상한(1~max_pick)\n",
    ") -> List[str]:\n",
    "    # 1) retrieval (필수 인자 model_path 전달!)\n",
    "    contexts = retrieve_top_k(\n",
    "        query=user_input,\n",
    "        model_path=model_path,\n",
    "        collection_name=collection_name,\n",
    "        k=k,\n",
    "        text_field=text_field,\n",
    "        emb_field=emb_field,\n",
    "        category=category,\n",
    "        topic=topic\n",
    "    )  # -> List[str]\n",
    "\n",
    "    # 2) 줄 단위로 분해 & 정리\n",
    "    #    (컨텍스트 한 개에 질문 여러 줄이 들어있는 경우가 많음)\n",
    "    lines: List[str] = []\n",
    "    for ctx in contexts:\n",
    "        if not ctx:\n",
    "            continue\n",
    "        for line in str(ctx).splitlines():\n",
    "            s = line.strip()\n",
    "            if s:\n",
    "                lines.append(s)\n",
    "\n",
    "    # 중복 제거(순서 보존)\n",
    "    seen = set()\n",
    "    questions = []\n",
    "    for q in lines:\n",
    "        if q not in seen:\n",
    "            seen.add(q)\n",
    "            questions.append(q)\n",
    "\n",
    "    if not questions:\n",
    "        return [\"질문을 찾을 수 없습니다.\"]\n",
    "\n",
    "    # 3) 1~max_pick개 무작위 선택\n",
    "    num_to_pick = random.randint(1, min(max_pick, len(questions)))\n",
    "    return random.sample(questions, num_to_pick)\n",
    "\n",
    "# 예시 실행\n",
    "if __name__ == \"__main__\":\n",
    "    user_answer = \"I usually go hiking on weekends.\"\n",
    "    follow_ups = get_random_questions(\n",
    "        user_answer,\n",
    "        k=1,                                # 유사 문서 3개 가져와서\n",
    "        collection_name=\"embedded_opic_samples\"  # 실제 사용하는 컬렉션명으로\n",
    "    )\n",
    "    for q in follow_ups:\n",
    "        print(q)\n"
   ],
   "id": "80430b5277dd8d55",
   "outputs": [
    {
     "name": "stdout",
     "output_type": "stream",
     "text": [
      "MongoDB 연결 성공 (컬렉션: embedded_opic_samples)\n",
      "How often do you go hiking or trekking? Where do you usually go, and what do you like most about it?\n"
     ]
    }
   ],
   "execution_count": 10
  },
  {
   "metadata": {
    "ExecuteTime": {
     "end_time": "2025-08-09T07:45:44.496537Z",
     "start_time": "2025-08-09T07:45:42.340264Z"
    }
   },
   "cell_type": "code",
   "source": [
    "from quest import sample_opic_test\n",
    "\n",
    "if __name__ == \"__main__\":\n",
    "    survey_keys = [\n",
    "        \"dormitory\", \"student\", \"driving\", \"travel\", \"hobby\",\n",
    "        \"food\", \"family\", \"friend\", \"neighborhood\", \"shopping\",\n",
    "        \"sports\", \"health\", \"movie\", \"music\", \"part-time job\"\n",
    "    ]\n",
    "    qs = sample_opic_test(\n",
    "        user_input=\"travel and student life\",\n",
    "        survey_keys=survey_keys,\n",
    "        k_retrieve=400,\n",
    "        seed=123,\n",
    "        collection_name=\"embedded_opic_samples\"\n",
    "    )\n",
    "    for i, q in enumerate(qs, start=1):\n",
    "        print(f\"{i}. {q}\")"
   ],
   "id": "4bec8ea1850de18c",
   "outputs": [
    {
     "name": "stdout",
     "output_type": "stream",
     "text": [
      "MongoDB 연결 성공 (컬렉션: embedded_opic_samples)\n",
      "1. Please introduce yourself. Tell me your name, where you’re from, and a few things about your background.\n",
      "2. What is your favorite thing to buy when you go shopping? Describe your shopping style and what you look for when you buy it.\n",
      "3. I'd like to give you a situation for you to act out. You want to go shopping with your friend. Ask 3-4 questions to your friend.\n",
      "4. Tell me about your first driving experience. Who taught you, and how did you feel when you were behind the wheel for the first time?\n",
      "5. How often do you visit a spa or massage shop, and what benefits do you get from it? Describe your routine and how it affects your health.\n",
      "6. Tell me about the last time you went to a club. Who did you go with, what did you do, and what was the music like?\n",
      "7. Do you prefer watching sports at home on TV or going to a stadium? What are the pros and cons of each, and what was your last experience like?\n",
      "8. I’d like to know about your favorite and least favorite kinds of movies. What are they? What do you like or dislike about these movies?\n",
      "9. What is the most challenging part of a business trip? Is it being away from home, or dealing with travel logistics?\n",
      "10. What do you like most about living in a dormitory?\n",
      "11. I’d like to give you a situation and ask you to act it out. Imagine you’re planning a family trip. Call a friend who came back from a trip and ask 3 or 4 questions about the trip you’re planning.\n",
      "12. When was the last time you went shopping? What did you buy, and was it an enjoyable experience?\n",
      "13. Tell me about the last time you had a funny conversation with a friend through text messages. What did you talk about, and what made it so funny?\n",
      "14. What do you like most about swimming? Do you swim for exercise, or for fun and relaxation?\n",
      "15. What do you like most about hockey? Do you enjoy the fast pace, the skill, or the physicality of the game?\n"
     ]
    }
   ],
   "execution_count": 11
  }
 ],
 "metadata": {
  "kernelspec": {
   "display_name": "Python 3",
   "language": "python",
   "name": "python3"
  },
  "language_info": {
   "codemirror_mode": {
    "name": "ipython",
    "version": 2
   },
   "file_extension": ".py",
   "mimetype": "text/x-python",
   "name": "python",
   "nbconvert_exporter": "python",
   "pygments_lexer": "ipython2",
   "version": "2.7.6"
  }
 },
 "nbformat": 4,
 "nbformat_minor": 5
}
