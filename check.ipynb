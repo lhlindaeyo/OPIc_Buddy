{
 "cells": [
  {
   "metadata": {
    "ExecuteTime": {
     "end_time": "2025-08-06T05:47:28.317162Z",
     "start_time": "2025-08-06T05:47:24.304437Z"
    }
   },
   "cell_type": "code",
   "source": [
    "import numpy as np\n",
    "state = [input() for _ in range(8)]\n",
    "line_1 = [0,1,0,1,0,1,0,1]\n",
    "line_2 = [1,0,1,0,1,0,1,0]\n",
    "chess = []\n",
    "for i in range(8):\n",
    "    if i % 2 == 0:\n",
    "        chess.append(line_1)\n",
    "    else:\n",
    "        chess.append(line_2)\n",
    "for x in state:\n",
    "    for y in x:\n"
   ],
   "id": "6071e1b4cc727765",
   "outputs": [
    {
     "name": "stdout",
     "output_type": "stream",
     "text": [
      "7\n"
     ]
    }
   ],
   "execution_count": 42
  },
  {
   "metadata": {
    "ExecuteTime": {
     "end_time": "2025-08-06T05:13:05.031970Z",
     "start_time": "2025-08-06T05:13:05.029007Z"
    }
   },
   "cell_type": "code",
   "source": [
    "m = int(input())\n",
    "n = int(input())\n"
   ],
   "id": "8b1604f979a35702",
   "outputs": [
    {
     "name": "stdout",
     "output_type": "stream",
     "text": [
      "10\n",
      "35\n"
     ]
    }
   ],
   "execution_count": 33
  },
  {
   "metadata": {
    "ExecuteTime": {
     "end_time": "2025-08-07T07:06:54.410444Z",
     "start_time": "2025-08-07T07:06:52.309427Z"
    }
   },
   "cell_type": "code",
   "source": [
    "n = input()\n",
    "length = len(n)\n",
    "total = 0\n",
    "def change(n):\n",
    "    if n in \"0123456789\":\n",
    "        return int(n)\n",
    "    else:\n",
    "        return ord(n) - 55\n",
    "for i in range(length):\n",
    "    digit = n[-(i+1)]\n",
    "print(sum(total))"
   ],
   "id": "246a3d08b1197c69",
   "outputs": [
    {
     "name": "stdout",
     "output_type": "stream",
     "text": [
      "10\n"
     ]
    }
   ],
   "execution_count": 9
  },
  {
   "metadata": {},
   "cell_type": "markdown",
   "source": "#### 확인",
   "id": "f307822404e819aa"
  },
  {
   "metadata": {
    "ExecuteTime": {
     "end_time": "2025-08-07T06:40:30.282057Z",
     "start_time": "2025-08-07T06:40:09.116318Z"
    }
   },
   "cell_type": "code",
   "source": [
    "from db.db import connect_db, upload_contents\n",
    "if __name__ == \"__main__\":\n",
    "    # JSON 파일 경로와 컬렉션 이름만 지정해주면 됩니다\n",
    "    data = upload_contents(\n",
    "        json_path=r\"C:\\PythonEnvs\\huggingface\\OPIc_Buddy\\data\\opic_question.json\",\n",
    "        collection_name=\"opic_samples\",\n",
    "        overwrite=True\n",
    "    )\n",
    "    print(type(data))"
   ],
   "id": "4240e57e8f9ec01f",
   "outputs": [
    {
     "name": "stdout",
     "output_type": "stream",
     "text": [
      "MongoDB 연결 실패: ConfigurationError - The resolution lifetime expired after 21.156 seconds: Server Do53:172.20.10.1@53 answered The DNS operation timed out.; Server Do53:172.20.10.1@53 answered The DNS operation timed out.; Server Do53:172.20.10.1@53 answered The DNS operation timed out.; Server Do53:172.20.10.1@53 answered The DNS operation timed out.; Server Do53:172.20.10.1@53 answered The DNS operation timed out.; Server Do53:172.20.10.1@53 answered The DNS operation timed out.; Server Do53:172.20.10.1@53 answered The DNS operation timed out.\n",
      "<class 'NoneType'>\n"
     ]
    }
   ],
   "execution_count": 4
  },
  {
   "metadata": {
    "ExecuteTime": {
     "end_time": "2025-08-07T05:45:53.779525Z",
     "start_time": "2025-08-07T05:45:42.403567Z"
    }
   },
   "cell_type": "code",
   "source": [
    "# run_embedding.py\n",
    "from embedding import embedding_collection\n",
    "\n",
    "if __name__ == \"__main__\":\n",
    "    MODEL_PATH = r\"C:\\PythonEnvs\\huggingface\\OPIc_Buddy\\model\\models--intfloat--e5-base-v2\\snapshots\\f52bf8ec8c7124536f0efb74aca902b2995e5bcd\"\n",
    "\n",
    "    embedding_collection(\n",
    "        input_collection=\"opic_samples\",\n",
    "        output_collection=\"embedded_opic_samples\",\n",
    "        model_path=MODEL_PATH,\n",
    "        batch_size=50\n",
    "    )\n",
    "    print(\"✅ 임베딩 완료!\")"
   ],
   "id": "bc823da4d5e5145e",
   "outputs": [
    {
     "name": "stdout",
     "output_type": "stream",
     "text": [
      "MongoDB 연결 성공 (컬렉션: opic_samples)\n",
      "MongoDB 연결 성공 (컬렉션: embedded_opic_samples)\n"
     ]
    },
    {
     "name": "stderr",
     "output_type": "stream",
     "text": [
      "Embedding docs: 77it [00:09,  8.48it/s]\n"
     ]
    },
    {
     "name": "stdout",
     "output_type": "stream",
     "text": [
      "✅ 임베딩 완료!\n"
     ]
    }
   ],
   "execution_count": 2
  },
  {
   "metadata": {
    "ExecuteTime": {
     "end_time": "2025-08-07T06:42:44.288750Z",
     "start_time": "2025-08-07T06:42:44.261637Z"
    }
   },
   "cell_type": "code",
   "source": [
    "# main.py\n",
    "\n",
    "import os, sys\n",
    "# rag_core.py가 있는 디렉토리를 경로에 추가\n",
    "sys.path.append(os.path.abspath(os.path.join(os.path.dirname(__file__), \"rag\")))\n",
    "\n",
    "from rag_core import run_rag\n",
    "\n",
    "def main():\n",
    "    print(\"RAG 시스템 실행 준비 완료.\")\n",
    "\n",
    "    user_query = \"LangChain의 주요 기능은 무엇인가요?\"\n",
    "\n",
    "    print(f\"\\n질문: {user_query}\")\n",
    "    rag_answer = run_rag(user_query, k=5)\n",
    "    print(f\"답변: {rag_answer}\")\n",
    "\n",
    "if __name__ == '__main__':\n",
    "    main()"
   ],
   "id": "1d8cf11653f4615f",
   "outputs": [
    {
     "ename": "NameError",
     "evalue": "name '__file__' is not defined",
     "output_type": "error",
     "traceback": [
      "\u001B[31m---------------------------------------------------------------------------\u001B[39m",
      "\u001B[31mNameError\u001B[39m                                 Traceback (most recent call last)",
      "\u001B[36mCell\u001B[39m\u001B[36m \u001B[39m\u001B[32mIn[5]\u001B[39m\u001B[32m, line 5\u001B[39m\n\u001B[32m      3\u001B[39m \u001B[38;5;28;01mimport\u001B[39;00m\u001B[38;5;250m \u001B[39m\u001B[34;01mos\u001B[39;00m,\u001B[38;5;250m \u001B[39m\u001B[34;01msys\u001B[39;00m\n\u001B[32m      4\u001B[39m \u001B[38;5;66;03m# rag_core.py가 있는 디렉토리를 경로에 추가\u001B[39;00m\n\u001B[32m----> \u001B[39m\u001B[32m5\u001B[39m sys.path.append(os.path.abspath(os.path.join(os.path.dirname(\u001B[34;43m__file__\u001B[39;49m), \u001B[33m\"\u001B[39m\u001B[33mrag\u001B[39m\u001B[33m\"\u001B[39m)))\n\u001B[32m      7\u001B[39m \u001B[38;5;28;01mfrom\u001B[39;00m\u001B[38;5;250m \u001B[39m\u001B[34;01mrag_core\u001B[39;00m\u001B[38;5;250m \u001B[39m\u001B[38;5;28;01mimport\u001B[39;00m run_rag\n\u001B[32m      9\u001B[39m \u001B[38;5;28;01mdef\u001B[39;00m\u001B[38;5;250m \u001B[39m\u001B[34mmain\u001B[39m():\n",
      "\u001B[31mNameError\u001B[39m: name '__file__' is not defined"
     ]
    }
   ],
   "execution_count": 5
  },
  {
   "metadata": {},
   "cell_type": "code",
   "outputs": [],
   "execution_count": null,
   "source": "",
   "id": "dea547515b9d61f6"
  }
 ],
 "metadata": {
  "kernelspec": {
   "display_name": "Python 3",
   "language": "python",
   "name": "python3"
  },
  "language_info": {
   "codemirror_mode": {
    "name": "ipython",
    "version": 2
   },
   "file_extension": ".py",
   "mimetype": "text/x-python",
   "name": "python",
   "nbconvert_exporter": "python",
   "pygments_lexer": "ipython2",
   "version": "2.7.6"
  }
 },
 "nbformat": 4,
 "nbformat_minor": 5
}
